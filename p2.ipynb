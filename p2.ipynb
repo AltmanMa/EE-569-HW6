{
 "cells": [
  {
   "cell_type": "code",
   "execution_count": null,
   "metadata": {},
   "outputs": [],
   "source": [
    "import numpy as np\n",
    "from sklearn import datasets\n",
    "from sklearn.model_selection import train_test_split\n",
    "from skimage.util import view_as_windows\n",
    "\n",
    "# 从 cwSaab.py 导入 cwSaab 类\n",
    "from cwSaab import cwSaab\n",
    "\n",
    "# 定义一个函数来获取数据的窗口视图\n",
    "def Shrink(X, shrinkArg):\n",
    "    win = shrinkArg['win']\n",
    "    stride = shrinkArg['stride']\n",
    "    ch = X.shape[-1]\n",
    "    X = view_as_windows(X, (1,win,win,ch), (1,stride,stride,ch))\n",
    "    return X.reshape(X.shape[0], X.shape[1], X.shape[2], -1)\n",
    "\n",
    "# 加载 MNIST 数据\n",
    "digits = datasets.load_digits()\n",
    "X = digits.images.reshape((len(digits.images), 8, 8, 1))  # 将数据调整为 (N, H, W, C) 格式\n",
    "y = digits.target\n",
    "\n",
    "# 分割数据为训练集和测试集\n",
    "X_train, X_test, y_train, y_test = train_test_split(X, y, test_size=0.2, stratify=y, random_state=42)\n",
    "\n",
    "# 设置 Saab 参数\n",
    "SaabArgs = [{'num_AC_kernels':-1, 'needBias':True, 'cw':False}, \n",
    "            {'num_AC_kernels':5, 'needBias':True, 'cw':True}]\n",
    "shrinkArgs = [{'func': Shrink, 'win':5, 'stride': 1}, \n",
    "              {'func': Shrink, 'win':5, 'stride': 1}]\n",
    "\n",
    "# 初始化 cwSaab 类\n",
    "cwsaab = cwSaab(depth=2, TH1=0.005, TH2=0.001, SaabArgs=SaabArgs, shrinkArgs=shrinkArgs)\n",
    "\n",
    "# 训练模型\n",
    "cwsaab.fit(X_train)\n",
    "\n",
    "# 变换训练数据和测试数据\n",
    "train_features = cwsaab.transform(X_train)\n",
    "test_features = cwsaab.transform(X_test)\n",
    "\n",
    "# 使用 XGBoost 进行分类\n",
    "from xgboost import XGBClassifier\n",
    "classifier = XGBClassifier(n_estimators=100)\n",
    "classifier.fit(np.concatenate(train_features, axis=-1).reshape(len(X_train), -1), y_train)\n",
    "\n",
    "# 测试准确率\n",
    "test_accuracy = classifier.score(np.concatenate(test_features, axis=-1).reshape(len(X_test), -1), y_test)\n",
    "print(f\"Test Accuracy: {test_accuracy:.2%}\")\n"
   ]
  }
 ],
 "metadata": {
  "kernelspec": {
   "display_name": "base",
   "language": "python",
   "name": "python3"
  },
  "language_info": {
   "name": "python",
   "version": "3.9.13"
  }
 },
 "nbformat": 4,
 "nbformat_minor": 2
}
